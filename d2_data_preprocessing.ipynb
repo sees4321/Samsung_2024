{
 "cells": [
  {
   "cell_type": "code",
   "execution_count": 1,
   "metadata": {},
   "outputs": [],
   "source": [
    "import pandas as pd\n",
    "import os\n",
    "import numpy as np\n",
    "from scipy import signal\n",
    "from util_eprime_convert import _text_to_df\n",
    "\n",
    "def filter_signal(dat:np.ndarray, \n",
    "                  band=[1,40], \n",
    "                  sampling_rate:int=500):\n",
    "    # data: 1D array\n",
    "    [b, a] = signal.iirnotch(60, 30, sampling_rate) # power noise\n",
    "    dat = signal.filtfilt(b, a, dat)\n",
    "    [b, a] = signal.butter(3, band, 'bandpass', fs=sampling_rate)\n",
    "    dat = signal.filtfilt(b, a, dat)\n",
    "    # dat =  np.convolve(dat, np.ones(sampling_rate//20) / (sampling_rate//20), mode='same')\n",
    "    return dat\n",
    "\n",
    "def preprocess_d2_data(path, num_trials:int = 96, overlap:bool = True):\n",
    "    r'''\n",
    "    preprocessing for d2 data (compute CONC + segmentation)\n",
    "\n",
    "    Args:\n",
    "        path (str): path for the d2 original data.\n",
    "        fs (int): target sampling frequency\n",
    "        num_trials (int): number of trials for segmentation and ONC computation\n",
    "        overlap (bool): True - half of num_trials are used for overlap, 1 - no overlap\n",
    "    '''\n",
    "    ROOT_PATH = path \n",
    "    fs_origin = 500\n",
    "    fs = 125\n",
    "    num_total_trials = 1320\n",
    "\n",
    "    subj_list = os.listdir(ROOT_PATH)\n",
    "    for idx, subj in enumerate(subj_list):\n",
    "        dat_list = os.listdir(ROOT_PATH+subj+'/d2/')\n",
    "        save_path = f'./d2_data/S{idx}/'\n",
    "        os.makedirs(save_path, exist_ok=True)\n",
    "        num1, num2 = (2, 5) if len(dat_list) < 7 else (3, 7)\n",
    "\n",
    "        easy_ = np.asarray(pd.read_csv(ROOT_PATH + subj + '/d2/' + dat_list[num1], delimiter='\\t')).T\n",
    "        easy = easy_[:,0::2]\n",
    "        event = np.append(np.where(easy[8]==4)[0], np.where(easy_[8,1::2]==4)[0])\n",
    "        event.sort()\n",
    "        event = np.append(event, np.where(easy_[8]==5)[0][-1]//2)//4\n",
    "        end = easy.shape[1]//fs_origin\n",
    "        easy = easy[:8,:end*fs_origin]\n",
    "        easy = filter_signal(easy)\n",
    "        easy = signal.resample(easy, fs*end, axis=1)\n",
    "\n",
    "        # compute CONC\n",
    "        txt = _text_to_df(ROOT_PATH + subj + '/d2/' + dat_list[num2])\n",
    "        txt = np.asarray(txt.loc[:,['CorrectKey', 'd2test.RESP']])[:-1]\n",
    "        conc = []\n",
    "        num_overlap = num_trials//2 if overlap else num_trials\n",
    "        for seg, i in enumerate(range(0, num_total_trials-num_trials, num_overlap)):\n",
    "            # if seg < 26:\n",
    "            tmp = txt[i:i+num_trials]\n",
    "            # conc.append((tmp[(tmp[:,0]==tmp[:,1]) & (tmp[:,0] == '1')].shape[0] - np.sum(tmp[:,0]!=tmp[:,1])) / num_trials)\n",
    "            conc.append(np.sum(tmp[:,0]!=tmp[:,1]))\n",
    "            # ttt = easy[:,event[i]:event[i+num_trials//2]]\n",
    "            # np.save(save_path + f'segment{seg}.npy', easy[:,event[i]:event[i+num_trials]])\n",
    "        np.save(save_path + 'conc.npy',np.array(conc,float))\n",
    "        \n",
    "\n",
    "preprocess_d2_data(r'D:/One_한양대학교/private object minsu/coding/data/samsung_2024/Day 2/', 48, False)"
   ]
  },
  {
   "cell_type": "code",
   "execution_count": 3,
   "metadata": {},
   "outputs": [],
   "source": [
    "conc = np.load('./d2_data/S0/conc.npy')\n",
    "# segment0 = np.load('./d2_data/S0/segment1.npy')"
   ]
  },
  {
   "cell_type": "code",
   "execution_count": 1,
   "metadata": {},
   "outputs": [
    {
     "data": {
      "text/plain": [
       "'\\nPATH: d2_data/S{subject_num}/\\n    - conc.npy: size = (26,), CONC values of 96 trials with 50 % overlap\\n    - segment{num}.npy: size = (8,x) where x = length of 96 trials\\n        - 8 electrode channels: Fp(AF7, FPZ, AF8), Central (C3, CZ, C4), Ear (Left, Right) \\n        - 125 Hz downsampled, 1-40 Hz bandpass filtered, 60 Hz notch filtered\\n    - There are a total of 26 segments corresponding to each of the 26 CONC values.\\nTODO\\n    - Divide each segments by an epoch (you can choose your own epoch size). \\n    - Labels for those epochs are corresponding CONC value.\\n    - You can determine threshold values for CONC values to make it binaray classification task.\\n'"
      ]
     },
     "execution_count": 1,
     "metadata": {},
     "output_type": "execute_result"
    }
   ],
   "source": [
    "\"\"\"\n",
    "PATH: d2_data/S{subject_num}/\n",
    "    - conc.npy: size = (26,), CONC values of 96 trials with 50 % overlap\n",
    "    - segment{num}.npy: size = (8,x) where x = length of 96 trials\n",
    "        - 8 electrode channels: Fp(AF7, FPZ, AF8), Central (C3, CZ, C4), Ear (Left, Right) \n",
    "        - 125 Hz downsampled, 1-40 Hz bandpass filtered, 60 Hz notch filtered\n",
    "    - There are a total of 26 segments corresponding to each of the 26 CONC values.\n",
    "TODO\n",
    "    - Divide each segments by an epoch (you can choose your own epoch size). \n",
    "    - Labels for those epochs are corresponding CONC value.\n",
    "    - You can determine threshold values for CONC values to make it binaray classification task.\n",
    "\"\"\" "
   ]
  }
 ],
 "metadata": {
  "kernelspec": {
   "display_name": "mne",
   "language": "python",
   "name": "python3"
  },
  "language_info": {
   "codemirror_mode": {
    "name": "ipython",
    "version": 3
   },
   "file_extension": ".py",
   "mimetype": "text/x-python",
   "name": "python",
   "nbconvert_exporter": "python",
   "pygments_lexer": "ipython3",
   "version": "3.11.0"
  }
 },
 "nbformat": 4,
 "nbformat_minor": 2
}
