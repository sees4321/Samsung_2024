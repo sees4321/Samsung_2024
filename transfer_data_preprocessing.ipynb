{
 "cells": [
  {
   "cell_type": "code",
   "execution_count": null,
   "id": "c5f66c53",
   "metadata": {},
   "outputs": [],
   "source": [
    "import pandas as pd\n",
    "import os\n",
    "import numpy as np\n",
    "from scipy import signal\n",
    "from mne.filter import resample\n",
    "\n",
    "def filter_signal(dat:np.ndarray, \n",
    "                  band=[1,50], \n",
    "                  sampling_rate:int=500):\n",
    "    # data: 1D array\n",
    "    [b, a] = signal.iirnotch(60, 30, sampling_rate) # power noise\n",
    "    dat = signal.filtfilt(b, a, dat)\n",
    "    [b, a] = signal.butter(3, band, 'bandpass', fs=sampling_rate)\n",
    "    dat = signal.filtfilt(b, a, dat)\n",
    "    # dat =  np.convolve(dat, np.ones(sampling_rate//20) / (sampling_rate//20), mode='same')\n",
    "    return dat\n",
    "\n",
    "def preprocess_emotion(path1, fs):\n",
    "    #emotion\n",
    "    subj_list = os.listdir(path1)\n",
    "    print(subj_list)\n",
    "\n",
    "    eeg = []\n",
    "\n",
    "    for idx, subj in enumerate(subj_list):\n",
    "        dat_list = os.listdir(path1+subj)\n",
    "        # print(subj, dat_list[0])\n",
    "        easy_ = np.asarray(pd.read_csv(path1 + subj + '/' + dat_list[0], delimiter='\\t'), float).T\n",
    "        easy = easy_[:8,0::2]\n",
    "        easy = resample(easy, down=500//fs)\n",
    "        easy = filter_signal(easy, sampling_rate=125)\n",
    "        eeg.append(np.stack([easy[:,i*1250:(i+1)*1250] for i in range(easy.shape[1]//(1250))], 0))\n",
    "    return np.concatenate(eeg)\n",
    "\n",
    "def preprocess_d2(path2, fs):\n",
    "    eeg = []\n",
    "    subj_list = os.listdir(path2)\n",
    "    for idx, subj in enumerate(subj_list):\n",
    "        dat_list = os.listdir(path2+subj+'/d2/')\n",
    "        num1 = 2 if len(dat_list) < 7 else 3\n",
    "\n",
    "        easy_ = np.asarray(pd.read_csv(path2 + subj + '/d2/' + dat_list[num1], delimiter='\\t'), float).T\n",
    "        easy = easy_[:8,0::2]\n",
    "        event = np.append(np.where(easy_[8]==4)[0][0], np.where(easy_[8]==5)[0][-1])//8\n",
    "        easy = resample(easy, down=500//fs)\n",
    "        easy = filter_signal(easy, sampling_rate=125)\n",
    "        easy = easy[:,event[0]:event[1]]\n",
    "        eeg.append(np.stack([easy[:,i*1250:(i+1)*1250] for i in range(easy.shape[1]//(1250))], 0))\n",
    "    return np.concatenate(eeg)\n",
    "\n",
    "def preprocess_transfer_data(path:str, fs:int=125):\n",
    "    path1 = path + '/Day 1/'\n",
    "    path2 = path + '/Day 2/'\n",
    "\n",
    "    eeg_emotion = preprocess_emotion(path1, fs)\n",
    "    eeg_d2 = preprocess_d2(path2, fs)\n",
    "\n",
    "\n",
    "\n",
    "\n",
    "    np.savez_compressed(f'{path}/transfer_data.npz', \n",
    "                        eeg=eeg, \n",
    "                        eeg_resting=eeg_resting, \n",
    "                        label_rating=label_rating, \n",
    "                        label_target=label_target)\n",
    "    \n",
    "preprocess_emotion_data('D:/One_한양대학교/private object minsu/coding/data/samsung_2024')"
   ]
  },
  {
   "cell_type": "code",
   "execution_count": 5,
   "id": "80d3eeee",
   "metadata": {},
   "outputs": [
    {
     "data": {
      "text/plain": [
       "(217, 8, 1250)"
      ]
     },
     "execution_count": 5,
     "metadata": {},
     "output_type": "execute_result"
    }
   ],
   "source": [
    "import numpy as np\n",
    "a = np.zeros((8,101760))\n",
    "a = np.stack([a[:,i*1250:(i+1)*1250] for i in range(a.shape[1]//(1250))])\n",
    "b = np.zeros((8,69832))\n",
    "b = np.stack([b[:,i*1250:(i+1)*1250] for i in range(b.shape[1]//(1250))])\n",
    "np.concatenate([a,b,a]).shape"
   ]
  }
 ],
 "metadata": {
  "kernelspec": {
   "display_name": "mne",
   "language": "python",
   "name": "python3"
  },
  "language_info": {
   "codemirror_mode": {
    "name": "ipython",
    "version": 3
   },
   "file_extension": ".py",
   "mimetype": "text/x-python",
   "name": "python",
   "nbconvert_exporter": "python",
   "pygments_lexer": "ipython3",
   "version": "3.11.0"
  }
 },
 "nbformat": 4,
 "nbformat_minor": 5
}
