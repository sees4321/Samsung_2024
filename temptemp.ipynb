{
 "cells": [
  {
   "cell_type": "code",
   "execution_count": 3,
   "metadata": {},
   "outputs": [],
   "source": [
    "import os\n",
    "import numpy as np\n",
    "\n",
    "path = 'D:\\One_한양대학교\\private object minsu\\coding\\data\\samsung_2024\\Preprocessed_Stress'\n",
    "path_folder = os.path.join(path,'Relax')\n",
    "datalist = os.listdir(path_folder)\n",
    "\n",
    "chan_selection = [[0,8],[0,3],[3,6],[6,8]]\n",
    "chan_mode = 1\n",
    "data = []\n",
    "for path_dat in datalist:\n",
    "    dat = np.load(os.path.join(path_folder, path_dat))[chan_selection[chan_mode][0]:chan_selection[chan_mode][1]]\n",
    "    data.append(dat)"
   ]
  },
  {
   "cell_type": "code",
   "execution_count": 4,
   "metadata": {},
   "outputs": [
    {
     "data": {
      "text/plain": [
       "(3, 7500)"
      ]
     },
     "execution_count": 4,
     "metadata": {},
     "output_type": "execute_result"
    }
   ],
   "source": [
    "data[0].shape"
   ]
  },
  {
   "cell_type": "code",
   "execution_count": 5,
   "metadata": {},
   "outputs": [],
   "source": [
    "path = 'D:\\One_한양대학교\\private object minsu\\coding\\data\\samsung_2024\\emotion'\n",
    "import torch\n",
    "dat = np.load(path+'/emotion_data.npy')\n",
    "dat = np.concatenate(dat)\n",
    "for i in [0, 7500]:\n",
    "    j = list(torch.from_numpy(dat[:,chan_selection[chan_mode][0]:chan_selection[chan_mode][1],i:i+7500]))\n",
    "    data += j\n",
    "i = data[-1]\n",
    "# for i in range(dat.shape[0]):\n",
    "#     for j in range(dat.shape[1]):\n",
    "#         data.append(dat[i,j,:,:7500])\n",
    "#         data.append(dat[i,j,:,7500:])"
   ]
  },
  {
   "cell_type": "code",
   "execution_count": null,
   "metadata": {},
   "outputs": [
    {
     "data": {
      "text/plain": [
       "1"
      ]
     },
     "execution_count": 40,
     "metadata": {},
     "output_type": "execute_result"
    }
   ],
   "source": [
    "from models.autoencoder_kl import AutoencoderKL\n",
    "from utils import *\n",
    "import torch\n",
    "\n",
    "model_ae = AutoencoderKL(16, 2, 32, 4, 8).to(DEVICE)\n",
    "model_ae.load_state_dict(torch.load('aekl500.pth'))\n",
    "\n"
   ]
  },
  {
   "cell_type": "code",
   "execution_count": 1,
   "metadata": {},
   "outputs": [
    {
     "data": {
      "text/plain": [
       "([14, 21, 33, 52, 39], 159)"
      ]
     },
     "execution_count": 1,
     "metadata": {},
     "output_type": "execute_result"
    }
   ],
   "source": [
    "import pandas as pd\n",
    "import matplotlib.pyplot as plt\n",
    "import numpy as np\n",
    "\n",
    "a = pd.read_csv('D:\\One_한양대학교\\private object minsu\\coding\\data\\samsung_2024\\\\food_preliminary\\\\ver1\\KYS\\Food_label_Kys_20250120-0340.csv')\n",
    "a = pd.read_csv('D:\\One_한양대학교\\private object minsu\\coding\\data\\samsung_2024\\\\food_preliminary\\\\ver2\\HWS\\Food_label_Hws_20250304-0609.csv')\n",
    "a = a.to_numpy()[0]\n",
    "a = [sum(a==x) for x in range(1,6)]\n",
    "a, sum(a)"
   ]
  },
  {
   "cell_type": "code",
   "execution_count": 2,
   "metadata": {},
   "outputs": [
    {
     "data": {
      "image/png": "[encoded data removed]",
      "text/plain": [
       "<Figure size 800x400 with 1 Axes>"
      ]
     },
     "metadata": {},
     "output_type": "display_data"
    }
   ],
   "source": [
    "plt.figure(figsize=(8,4))\n",
    "plt.bar(np.arange(0,5,1), a, 0.5, color=(0.5, 0.5, 0.5, 0.6))\n",
    "plt.xticks(np.arange(0,5,1), np.arange(1,6,1), fontweight='bold', fontsize='x-large', fontfamily='Malgun Gothic')\n",
    "# plt.yticks(np.arange(0,15,1), fontweight='semibold',fontsize='x-large', fontfamily='Malgun Gothic')\n",
    "plt.ylabel(\"# of Selected Points\", fontsize='xx-large', fontweight='bold', fontfamily='Malgun Gothic')\n",
    "plt.xlabel(\"Preference Points\", fontsize='xx-large', fontweight='bold', fontfamily='Malgun Gothic')\n",
    "for i, value in enumerate(a):\n",
    "    plt.text(i, value - 1., str(value), ha='center', fontsize=15)"
   ]
  },
  {
   "cell_type": "code",
   "execution_count": 26,
   "metadata": {},
   "outputs": [],
   "source": [
    "import pandas as pd\n",
    "import matplotlib.pyplot as plt\n",
    "a = pd.read_excel('D:\\One_한양대학교\\private object minsu\\coding\\data\\samsung_2024\\\\food_preliminary\\설문(응답).xlsx')\n",
    "b = {}\n",
    "c = {}\n",
    "d = {}\n",
    "e = {}\n",
    "for v in a['본인이 선호하는 음식']:\n",
    "    for ca in v.split(', '):\n",
    "        if ca not in b.keys():\n",
    "            b[ca] = 1\n",
    "        else:\n",
    "            b[ca] += 1\n",
    "        if ca not in d.keys():\n",
    "            d[ca] = 1\n",
    "        else:\n",
    "            d[ca] += 1\n",
    "        if ca not in e.keys():\n",
    "            e[ca] = [1,0,1]\n",
    "        else:\n",
    "            e[ca][0] += 1\n",
    "            e[ca][2] += 1\n",
    "for v in a['본인이 선호하지 않는 음식']:\n",
    "    for ca in v.split(', '):\n",
    "        if ca not in c.keys():\n",
    "            c[ca] = 1\n",
    "        else:\n",
    "            c[ca] += 1\n",
    "        if ca not in d.keys():\n",
    "            d[ca] = 1\n",
    "        else:\n",
    "            d[ca] += 1\n",
    "        if ca not in e.keys():\n",
    "            e[ca] = [0,1,1]\n",
    "        else:\n",
    "            e[ca][1] += 1\n",
    "            e[ca][2] += 1\n",
    "pd.DataFrame(e,['호','불호','합']).T.to_excel('D:\\One_한양대학교\\private object minsu\\coding\\data\\samsung_2024\\\\food_preliminary\\설문(정리).xlsx')"
   ]
  },
  {
   "cell_type": "code",
   "execution_count": 8,
   "metadata": {},
   "outputs": [
    {
     "name": "stdout",
     "output_type": "stream",
     "text": [
      "[1] 해초 샐러드\n",
      "[2] 정어리\n",
      "[3] 생간\n",
      "[4] 멍게\n",
      "[5] 천엽\n",
      "[6] 홍어\n"
     ]
    }
   ],
   "source": [
    "e = c\n",
    "i = 0\n",
    "for v in e:\n",
    "    if e[v] >= 9:\n",
    "        i += 1\n",
    "        print(f'[{i}] {v}')"
   ]
  }
 ],
 "metadata": {
  "kernelspec": {
   "display_name": "t2",
   "language": "python",
   "name": "python3"
  },
  "language_info": {
   "codemirror_mode": {
    "name": "ipython",
    "version": 3
   },
   "file_extension": ".py",
   "mimetype": "text/x-python",
   "name": "python",
   "nbconvert_exporter": "python",
   "pygments_lexer": "ipython3",
   "version": "3.9.16"
  }
 },
 "nbformat": 4,
 "nbformat_minor": 2
}
